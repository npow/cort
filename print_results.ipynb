{
 "metadata": {
  "name": "",
  "signature": "sha256:23b3b0cc40b501b8b09b44ca56f581fc5d26a2b4d27310d09ae87e3c9dcab892"
 },
 "nbformat": 3,
 "nbformat_minor": 0,
 "worksheets": [
  {
   "cells": [
    {
     "cell_type": "code",
     "collapsed": false,
     "input": [
      "import joblib\n",
      "import re\n",
      "L = joblib.load('L.pkl')"
     ],
     "language": "python",
     "metadata": {},
     "outputs": [],
     "prompt_number": 23
    },
    {
     "cell_type": "code",
     "collapsed": false,
     "input": [
      "for M in L:\n",
      "    for k in M:\n",
      "        mentions = M[k]['mentions']\n",
      "        klass = M[k]['klass']\n",
      "        for mention in mentions:\n",
      "            if re.match('the', mention[0], re.I):\n",
      "                print k,mention\n",
      "                print klass\n",
      "                break\n",
      "    "
     ],
     "language": "python",
     "metadata": {},
     "outputs": [
      {
       "output_type": "stream",
       "stream": "stdout",
       "text": [
        " 0 ['the', 'young', 'woman']\n",
        "['PERSON', 'PERSON', 'PERSON', 'PERSON', 'PERSON', 'PERSON', 'PERSON', 'PERSON', 'PERSON', 'PERSON', 'PERSON', 'PERSON', 'PERSON']\n",
        "1 ['them']\n",
        "['UNKNOWN', 'UNKNOWN', 'UNKNOWN', 'UNKNOWN', 'UNKNOWN']\n",
        "2 ['they']\n",
        "['UNKNOWN', 'UNKNOWN']\n",
        "3 ['the', 'young', 'man', \"'s\"]\n",
        "['PERSON', 'PERSON', 'PERSON', 'PERSON', 'PERSON', 'PERSON', 'UNKNOWN', 'PERSON']\n",
        "4 ['the', 'case', 'for', 'which', 'the', 'young', 'woman', 'is', 'demanding', 'expedited', 'proceedings', 'and', 'punishment', 'of', 'those', 'involved']\n",
        "['PERSON', 'UNKNOWN', 'UNKNOWN', 'UNKNOWN', 'OBJECT', 'UNKNOWN', 'OBJECT', 'UNKNOWN']\n",
        "5 ['the', 'Prince', 'of', 'the', 'Eastern', 'Province']\n",
        "['UNKNOWN', 'PERSON']\n",
        "6 ['the', 'Eastern', 'Province']\n",
        "['OBJECT', 'OBJECT']\n",
        "7 ['The', 'tape']\n",
        "['UNKNOWN', 'OBJECT', 'OBJECT', 'OBJECT', 'OBJECT', 'OBJECT', 'OBJECT']\n",
        "8 ['The', 'source']\n",
        "['PERSON', 'OBJECT', 'OBJECT']\n",
        "9 ['them']\n",
        "['UNKNOWN', 'UNKNOWN']\n",
        "10 ['the', 'girl', \"'s\", 'brother', ',', 'Abdullah', 'Khaled', 'al', '-', 'Harbi', '-LRB-', '18', 'years', 'old', '-RRB-', ',', 'and', 'his', 'friend']\n",
        "['UNKNOWN', 'OBJECT']\n",
        "11 ['the', 'Hafr', 'Al', 'Batin']\n",
        "['OBJECT', 'OBJECT']\n"
       ]
      }
     ],
     "prompt_number": 27
    },
    {
     "cell_type": "code",
     "collapsed": false,
     "input": [
      "L\n"
     ],
     "language": "python",
     "metadata": {},
     "outputs": [
      {
       "metadata": {},
       "output_type": "pyout",
       "prompt_number": 13,
       "text": [
        "[{0: ['A Saudi woman',\n",
        "   'she',\n",
        "   'her',\n",
        "   'a young Saudi woman',\n",
        "   'she',\n",
        "   'her',\n",
        "   'the young woman',\n",
        "   \"the girl 's\",\n",
        "   'The girl',\n",
        "   'her',\n",
        "   'She',\n",
        "   'she',\n",
        "   'She'],\n",
        "  1: ['3 young men', '3 young men', 'them', 'the accused', 'the accussed'],\n",
        "  2: ['both the Prince of the Eastern Province and his deputy', 'they'],\n",
        "  3: ['her brother',\n",
        "   'his',\n",
        "   'her brother murdered in Hafr Al Batin',\n",
        "   'his',\n",
        "   'him',\n",
        "   \"the young man 's\",\n",
        "   \"the girl 's brother , Abdullah Khaled al - Harbi -LRB- 18 years old -RRB- ,\",\n",
        "   'his'],\n",
        "  4: ['his case , in which 3 young men were accused of killing him and which has not so far been resolved',\n",
        "   'the case for which the young woman is demanding expedited proceedings and punishment of those involved',\n",
        "   'the case',\n",
        "   'the case in question',\n",
        "   'it',\n",
        "   'the case',\n",
        "   'it',\n",
        "   'the case against the accussed'],\n",
        "  5: ['the Prince of the Eastern Province', 'his'],\n",
        "  6: ['the Eastern Province', 'the Eastern Province'],\n",
        "  7: ['a voice recording in which she mourns her brother and demands the punishment of his killers',\n",
        "   'a sound tape in which she mourns her brother murdered in Hafr Al Batin',\n",
        "   'The tape',\n",
        "   'the tape',\n",
        "   'the tape',\n",
        "   'its',\n",
        "   'its'],\n",
        "  8: ['his',\n",
        "   \"an unnamed source from the Public Investigation and Prosecutor 's Board in the Eastern Province\",\n",
        "   'The source'],\n",
        "  9: ['stories based on the incident', 'them'],\n",
        "  10: [\"the girl 's brother , Abdullah Khaled al - Harbi -LRB- 18 years old -RRB- , and his friend\",\n",
        "   'both'],\n",
        "  11: ['Hafr Al Batin', 'the Hafr Al Batin']}]"
       ]
      }
     ],
     "prompt_number": 13
    }
   ],
   "metadata": {}
  }
 ]
}